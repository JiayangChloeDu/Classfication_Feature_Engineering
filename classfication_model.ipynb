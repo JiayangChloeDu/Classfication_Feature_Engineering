{
 "cells": [
  {
   "attachments": {
    "image.png": {
     "image/png": "[encoded data removed]"
    }
   },
   "cell_type": "markdown",
   "metadata": {},
   "source": [
    "### 混淆矩阵（Confusion Matrix）\n",
    "混淆矩阵是能够比较全面的反映模型的性能\n",
    "- TP：真正例，实际为正预测为正；\n",
    "- FP：假正例，实际为负但预测为正；\n",
    "- FN：假反例，实际为正但预测为负；\n",
    "- TN：真反例，实际为负预测为负\n",
    "\n",
    "从混淆矩阵能够衍生出很多的指标来\n",
    "- 查准率（精准率）：Precision = TP / (TP+FP)；\n",
    "- 查全率（召回率）：Recall = TP / (TP+FN)；\n",
    "- 正确率（准确率）：Accuracy = (TP+TN) / (TP+FP+TN+FN) \n",
    "- F值（F1-scores）：Precision和Recall加权调和平均数，并假设两者一样重要。\n",
    "\n",
    " 　　F1-score = (2Recall*Precision) / (Recall + Precision)\n",
    "   \n",
    "   \n",
    "查准率和查全率是一对矛盾的度量。一般来说，查准率高时，查全率往往偏低；而查全率高时，查准率往往偏低。通常只有在一些简单任务中，才可能使二者都很高\n",
    "\n",
    "![image.png](attachment:image.png)\n",
    "---\n",
    "- **对于一个车企的质检系统，精准率/召回率 哪个比较重要？**\n",
    "- **对于一个人脸支付系统，精准率/召回率 哪个比较重要？**"
   ]
  },
  {
   "cell_type": "code",
   "execution_count": null,
   "metadata": {},
   "outputs": [],
   "source": []
  },
  {
   "cell_type": "code",
   "execution_count": null,
   "metadata": {},
   "outputs": [],
   "source": []
  },
  {
   "cell_type": "code",
   "execution_count": 6,
   "metadata": {},
   "outputs": [
    {
     "name": "stdout",
     "output_type": "stream",
     "text": [
      "Precision: 0.5\n",
      "Recall: 0.5\n",
      "       Negative  Positive\n",
      "False         4         1\n",
      "True          1         1\n"
     ]
    },
    {
     "data": {
      "text/html": [
       "<div>\n",
       "<style scoped>\n",
       "    .dataframe tbody tr th:only-of-type {\n",
       "        vertical-align: middle;\n",
       "    }\n",
       "\n",
       "    .dataframe tbody tr th {\n",
       "        vertical-align: top;\n",
       "    }\n",
       "\n",
       "    .dataframe thead th {\n",
       "        text-align: right;\n",
       "    }\n",
       "</style>\n",
       "<table border=\"1\" class=\"dataframe\">\n",
       "  <thead>\n",
       "    <tr style=\"text-align: right;\">\n",
       "      <th></th>\n",
       "      <th>Negative</th>\n",
       "      <th>Positive</th>\n",
       "    </tr>\n",
       "  </thead>\n",
       "  <tbody>\n",
       "    <tr>\n",
       "      <th>False</th>\n",
       "      <td>4</td>\n",
       "      <td>1</td>\n",
       "    </tr>\n",
       "    <tr>\n",
       "      <th>True</th>\n",
       "      <td>1</td>\n",
       "      <td>1</td>\n",
       "    </tr>\n",
       "  </tbody>\n",
       "</table>\n",
       "</div>"
      ],
      "text/plain": [
       "       Negative  Positive\n",
       "False         4         1\n",
       "True          1         1"
      ]
     },
     "execution_count": 6,
     "metadata": {},
     "output_type": "execute_result"
    }
   ],
   "source": [
    "pred = [0,0,0,1,0,0,1]\n",
    "real = [0,0,1,0,0,0,1]\n",
    "confusion_matrix(pred,real)"
   ]
  },
  {
   "cell_type": "code",
   "execution_count": 5,
   "metadata": {},
   "outputs": [],
   "source": [
    "import pandas as pd\n",
    "\n",
    "def confusion_matrix(pred,real):\n",
    "    x = pd.DataFrame()\n",
    "    x['label'] = real\n",
    "    x['predict'] = pred\n",
    "\n",
    "    TruePositive = sum(x[x['predict']==1]['label']) #取预测为1的，并且真实为1的样本数量总和\n",
    "    FalsePositive = sum(1-x[x['predict']==1]['label'])\n",
    "    TrueNegative = sum(1-x[x['predict']==0]['label'])\n",
    "    FalseNegative = sum(x[x['predict']==0]['label'])\n",
    "\n",
    "    Precision = TruePositive/(TruePositive+FalsePositive)\n",
    "    Recall = TruePositive/(TruePositive+FalseNegative)\n",
    "    print('Precision: {}'.format(Precision))\n",
    "    print('Recall: {}'.format(Recall))\n",
    "    _confusion_matrix = pd.DataFrame({\n",
    "                    'Negative':{'True':FalseNegative,'False':TrueNegative},\n",
    "                    'Positive':{'True':TruePositive,'False':FalsePositive}                            \n",
    "                    })        \n",
    "    print(_confusion_matrix)\n",
    "    return _confusion_matrix"
   ]
  },
  {
   "cell_type": "markdown",
   "metadata": {},
   "source": [
    "### ROC/AUC\n",
    "AUC（Area Under the ROC Curve）指标是在二分类问题中，模型评估阶段常被用作最重要的评估指标来衡量模型的稳定性。\n",
    "根据混淆矩阵，我们可以得到另外两个指标：\n",
    " \n",
    "- 真正例率，True Positive Rate：Recall = TP/ (TP+FN)\n",
    "- 假正例率， False Postive Rate：FPR = FP/(TN+FP)\n",
    "\n",
    "另外，真正率是正确预测到的正例数与实际正例数的比值，所以又称为灵敏度（敏感性，sensitive）；\n",
    "对应于灵敏度有一个特异度（特效性，specificity）是正确预测到的负例数与实际负例数的比值（NPV = TN / (TN+FN)）。\n",
    " \n",
    "我们以真正例率（TPR）作为纵轴，以假正例率（FPR）作为横轴作图，便得到了ROC曲线，而AUC则是ROC曲线下的面积。AUC的取值为[0.5-1]，0.5对应于对角线的“随机猜测模型”。"
   ]
  },
  {
   "cell_type": "code",
   "execution_count": 11,
   "metadata": {},
   "outputs": [],
   "source": [
    "import matplotlib.pyplot as plt\n",
    "from sklearn.metrics import roc_curve, auc  ###计算roc和auc\n",
    "\n",
    "def illus_roc_curve(real,pred):\n",
    "    # Compute ROC curve and ROC area for each class \n",
    "    \n",
    "    fpr,tpr,threshold = roc_curve(real, pred) ###计算真正率和假正率\n",
    "    roc_auc = auc(fpr,tpr) ###计算auc的值\n",
    "    lw = 2\n",
    "    plt.figure(figsize=(10,10))\n",
    "    plt.plot(fpr, tpr, color='darkorange',\n",
    "            lw=lw, label='ROC curve (area = %0.2f)' % roc_auc) ###假正率为横坐标，真正率为纵坐标做曲线\n",
    "    plt.plot([0, 1], [0, 1], color='navy', lw=lw, linestyle='--')\n",
    "    plt.xlim([0.0, 1.0])\n",
    "    plt.ylim([0.0, 1.0])\n",
    "    plt.xlabel('False Positive Rate')\n",
    "    plt.ylabel('True Positive Rate')\n",
    "    plt.title('ROC curve')\n",
    "    plt.legend(loc=\"lower right\")\n",
    "    plt.show()"
   ]
  },
  {
   "cell_type": "markdown",
   "metadata": {},
   "source": [
    "## LogisticRegression\n",
    "优点：\n",
    "    - 容易使用和解释。\n",
    "    - 不容易过拟合\n",
    "\n",
    "缺点：\n",
    "    - 对模型中自变量多重共线性较为敏感，例如两个高度相关自变量同时放入模型，可能导致较弱的一个自变量回归符号不符合预期，符号被扭转。需要利用因子分析或者变量聚类分析等手段来选择代表性的自变量，以减少候选变量之间的相关性；\n",
    "    - 对极端值敏感\n",
    "    "
   ]
  },
  {
   "cell_type": "markdown",
   "metadata": {},
   "source": [
    "- winsorize：1%，std\n",
    "- 因子分箱\n",
    "   - 1.1 1.22 .. 100.11\n",
    "   \n",
    "   - 1 ,10, 20,..100"
   ]
  },
  {
   "cell_type": "markdown",
   "metadata": {},
   "source": [
    "1. 检查相关系数/协方差矩阵\n",
    "2. 如果有相关性高得，放弃一个\n",
    "3. 单因子回归"
   ]
  },
  {
   "cell_type": "code",
   "execution_count": 1,
   "metadata": {},
   "outputs": [],
   "source": [
    "import pandas as pd\n",
    "data = pd.read_csv('D:/BondRiskModel/data_bond/training_data_slim2.csv',index_col=0)"
   ]
  },
  {
   "cell_type": "code",
   "execution_count": 6,
   "metadata": {},
   "outputs": [],
   "source": [
    "reg_cols = [\n",
    "        'intercept',\n",
    "#         'GMI',        \n",
    "        'SGI',\n",
    "        'DEPI',\n",
    "        'LVGI',\n",
    "        'TATA',\n",
    "        'XueIdx_1',\n",
    "        'XueIdx_4',\n",
    "        'LOSS',\n",
    "        'CH_CS',\n",
    "        'size',\n",
    "        'lin_1',\n",
    "        'lin1',\n",
    "        'lin2',\n",
    "        'lin3',\n",
    "        'turnover'\n",
    "        ]\n",
    "\n",
    "x = data[reg_cols]\n",
    "y = x.corr()\n",
    "y.to_csv('corr.csv')"
   ]
  },
  {
   "cell_type": "code",
   "execution_count": 4,
   "metadata": {},
   "outputs": [
    {
     "name": "stdout",
     "output_type": "stream",
     "text": [
      "Optimization terminated successfully.\n",
      "         Current function value: 0.032849\n",
      "         Iterations 10\n",
      "                           Logit Regression Results                           \n",
      "==============================================================================\n",
      "Dep. Variable:          if_downgraded   No. Observations:                21507\n",
      "Model:                          Logit   Df Residuals:                    21492\n",
      "Method:                           MLE   Df Model:                           14\n",
      "Date:                Tue, 23 Jun 2020   Pseudo R-squ.:                 0.09830\n",
      "Time:                        21:40:19   Log-Likelihood:                -706.49\n",
      "converged:                       True   LL-Null:                       -783.50\n",
      "                                        LLR p-value:                 1.121e-25\n",
      "==============================================================================\n",
      "                 coef    std err          z      P>|z|      [0.025      0.975]\n",
      "------------------------------------------------------------------------------\n",
      "intercept     -6.0854      0.170    -35.865      0.000      -6.418      -5.753\n",
      "SGI           -0.3843      0.121     -3.180      0.001      -0.621      -0.147\n",
      "DEPI          -0.1067      0.119     -0.895      0.371      -0.340       0.127\n",
      "LVGI           0.7415      0.134      5.526      0.000       0.479       1.005\n",
      "TATA           0.1356      0.164      0.828      0.408      -0.185       0.457\n",
      "XueIdx_1       0.5645      0.160      3.521      0.000       0.250       0.879\n",
      "XueIdx_4      -0.0383      0.121     -0.315      0.752      -0.276       0.200\n",
      "LOSS           1.0964      0.246      4.466      0.000       0.615       1.578\n",
      "CH_CS         -0.2490      0.146     -1.703      0.089      -0.536       0.038\n",
      "size           0.5602      0.121      4.616      0.000       0.322       0.798\n",
      "lin_1          0.1305      0.170      0.767      0.443      -0.203       0.464\n",
      "lin1           0.4977      0.182      2.735      0.006       0.141       0.854\n",
      "lin2           0.3553      0.148      2.405      0.016       0.066       0.645\n",
      "lin3           0.1288      0.121      1.065      0.287      -0.108       0.366\n",
      "turnover       0.6307      0.146      4.321      0.000       0.345       0.917\n",
      "==============================================================================\n"
     ]
    }
   ],
   "source": [
    "import statsmodels.api as sm\n",
    "reg_cols = [\n",
    "        'intercept',\n",
    "#         'GMI',        \n",
    "        'SGI',\n",
    "        'DEPI',\n",
    "        'LVGI',\n",
    "        'TATA',\n",
    "        'XueIdx_1',\n",
    "        'XueIdx_4',\n",
    "        'LOSS',\n",
    "        'CH_CS',\n",
    "        'size',\n",
    "        'lin_1',\n",
    "        'lin1',\n",
    "        'lin2',\n",
    "        'lin3',\n",
    "        'turnover'\n",
    "        ]\n",
    "\n",
    "logit = sm.Logit(data['if_downgraded'], data[reg_cols])\n",
    "result = logit.fit()\n",
    "print(result.summary())"
   ]
  },
  {
   "cell_type": "code",
   "execution_count": 4,
   "metadata": {
    "collapsed": true
   },
   "outputs": [
    {
     "data": {
      "text/plain": [
       "EVIWQ7lgll    0.000249\n",
       "739172273     0.001257\n",
       "YNBtv9mFE5    0.000328\n",
       "697505913     0.000361\n",
       "AXIVLQNTrA    0.004380\n",
       "2AF43A5E95    0.008081\n",
       "1600859       0.007359\n",
       "Wj8IVsTAhv    0.001859\n",
       "556601776     0.001046\n",
       "BTMg5loUki    0.014314\n",
       "2007432       0.001195\n",
       "bwUaqan0ry    0.002747\n",
       "wHIwpuLB1J    0.013384\n",
       "27H4FC493B    0.005689\n",
       "SknLgPuND5    0.001244\n",
       "egGPe9TheQ    0.001924\n",
       "mSGjJreNUx    0.001178\n",
       "6ufTXfkUNO    0.002266\n",
       "g2pd65iBhN    0.003017\n",
       "1000965       0.002093\n",
       "2NF5707757    0.000573\n",
       "560907380     0.001640\n",
       "3Qxe885hkJ    0.001296\n",
       "IO2ugurflV    0.003214\n",
       "08I395916D    0.001205\n",
       "jyXf7bqzzf    0.002415\n",
       "Q3QDvRu9Jj    0.000840\n",
       "67327003X     0.000917\n",
       "IsmFH7yTJZ    0.002456\n",
       "714721168     0.003981\n",
       "                ...   \n",
       "pHs4qebmwc    0.007758\n",
       "2N1463D76D    0.005690\n",
       "682686555     0.001787\n",
       "780911955     0.000346\n",
       "wsfUMVENe4    0.015032\n",
       "lMcR60QbzU    0.004128\n",
       "HPEdQmWU56    0.000656\n",
       "mg4a3eHvD1    0.004677\n",
       "F4F88         0.007309\n",
       "0853AF507E    0.007449\n",
       "2q760555E1    0.003598\n",
       "3AI781E62A    0.001195\n",
       "VVXnJ77rcM    0.004521\n",
       "04M571A459    0.003545\n",
       "675510025     0.002334\n",
       "502045547     0.003658\n",
       "M3jYfODrgN    0.005591\n",
       "mwemYCrQpr    0.000629\n",
       "Yoedv2dyGZ    0.000479\n",
       "727678752     0.001025\n",
       "2002223       0.003742\n",
       "N6p4gNIQ2Q    0.003344\n",
       "1600665       0.000425\n",
       "229472882     0.001528\n",
       "ugqxGcY5YI    0.004928\n",
       "Vmj3D5mMe4    0.003619\n",
       "1000701       0.002897\n",
       "06F86F60F1    0.006524\n",
       "vSUj27Ah2F    0.003298\n",
       "0SFDEB0D44    0.004209\n",
       "Length: 21507, dtype: float64"
      ]
     },
     "execution_count": 4,
     "metadata": {},
     "output_type": "execute_result"
    }
   ],
   "source": [
    "pred = result.predict(data[reg_cols]) #生成预测值"
   ]
  },
  {
   "cell_type": "code",
   "execution_count": 16,
   "metadata": {},
   "outputs": [
    {
     "data": {
      "image/png": "[encoded data removed]",
      "text/plain": [
       "<Figure size 720x720 with 1 Axes>"
      ]
     },
     "metadata": {
      "needs_background": "light"
     },
     "output_type": "display_data"
    }
   ],
   "source": [
    "illus_roc_curve(real,pred)"
   ]
  },
  {
   "cell_type": "code",
   "execution_count": 1,
   "metadata": {},
   "outputs": [
    {
     "ename": "NameError",
     "evalue": "name 'result' is not defined",
     "output_type": "error",
     "traceback": [
      "\u001b[1;31m---------------------------------------------------------------------------\u001b[0m",
      "\u001b[1;31mNameError\u001b[0m                                 Traceback (most recent call last)",
      "\u001b[1;32m<ipython-input-1-f1daa25c216a>\u001b[0m in \u001b[0;36m<module>\u001b[1;34m()\u001b[0m\n\u001b[1;32m----> 1\u001b[1;33m \u001b[0mpred\u001b[0m \u001b[1;33m=\u001b[0m \u001b[0mresult\u001b[0m\u001b[1;33m.\u001b[0m\u001b[0mpredict\u001b[0m\u001b[1;33m(\u001b[0m\u001b[0mdata\u001b[0m\u001b[1;33m[\u001b[0m\u001b[0mreg_cols\u001b[0m\u001b[1;33m]\u001b[0m\u001b[1;33m)\u001b[0m\u001b[1;33m\u001b[0m\u001b[0m\n\u001b[0m\u001b[0;32m      2\u001b[0m \u001b[1;32mfor\u001b[0m \u001b[0malpha\u001b[0m \u001b[1;32min\u001b[0m \u001b[1;33m[\u001b[0m\u001b[1;36m1e-5\u001b[0m\u001b[1;33m,\u001b[0m\u001b[1;36m1e-4\u001b[0m\u001b[1;33m,\u001b[0m\u001b[1;36m1e-3\u001b[0m\u001b[1;33m,\u001b[0m\u001b[1;36m1e-2\u001b[0m\u001b[1;33m]\u001b[0m\u001b[1;33m:\u001b[0m\u001b[1;33m\u001b[0m\u001b[0m\n\u001b[0;32m      3\u001b[0m     \u001b[0mprint\u001b[0m\u001b[1;33m(\u001b[0m\u001b[0malpha\u001b[0m\u001b[1;33m)\u001b[0m\u001b[1;33m\u001b[0m\u001b[0m\n\u001b[0;32m      4\u001b[0m     \u001b[0mpred2\u001b[0m \u001b[1;33m=\u001b[0m \u001b[0mpred\u001b[0m\u001b[1;33m.\u001b[0m\u001b[0mapply\u001b[0m\u001b[1;33m(\u001b[0m\u001b[1;32mlambda\u001b[0m \u001b[0mx\u001b[0m\u001b[1;33m:\u001b[0m \u001b[1;36m1\u001b[0m \u001b[1;32mif\u001b[0m \u001b[0mx\u001b[0m\u001b[1;33m>\u001b[0m\u001b[0malpha\u001b[0m \u001b[1;32melse\u001b[0m \u001b[1;36m0\u001b[0m\u001b[1;33m)\u001b[0m\u001b[1;33m\u001b[0m\u001b[0m\n\u001b[0;32m      5\u001b[0m     \u001b[0mreal\u001b[0m \u001b[1;33m=\u001b[0m \u001b[0mdata\u001b[0m\u001b[1;33m[\u001b[0m\u001b[1;34m'if_downgraded'\u001b[0m\u001b[1;33m]\u001b[0m\u001b[1;33m\u001b[0m\u001b[0m\n",
      "\u001b[1;31mNameError\u001b[0m: name 'result' is not defined"
     ]
    }
   ],
   "source": [
    "pred = result.predict(data[reg_cols])\n",
    "for t in [1e-5,1e-4,1e-3,1e-2]:\n",
    "    print(t)\n",
    "    pred2 = pred.apply(lambda x: 1 if x>t else 0)\n",
    "    real = data['if_downgraded']\n",
    "    confusion_matrix(pred2,real)"
   ]
  },
  {
   "cell_type": "code",
   "execution_count": null,
   "metadata": {},
   "outputs": [],
   "source": []
  }
 ],
 "metadata": {
  "kernelspec": {
   "display_name": "Python 3",
   "language": "python",
   "name": "python3"
  },
  "language_info": {
   "codemirror_mode": {
    "name": "ipython",
    "version": 3
   },
   "file_extension": ".py",
   "mimetype": "text/x-python",
   "name": "python",
   "nbconvert_exporter": "python",
   "pygments_lexer": "ipython3",
   "version": "3.7.0"
  }
 },
 "nbformat": 4,
 "nbformat_minor": 2
}
