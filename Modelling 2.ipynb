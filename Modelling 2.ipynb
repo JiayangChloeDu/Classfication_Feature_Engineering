{
 "cells": [
  {
   "cell_type": "markdown",
   "metadata": {},
   "source": [
    "### Random Forest LightGBM Modelling"
   ]
  },
  {
   "cell_type": "code",
   "execution_count": 128,
   "metadata": {},
   "outputs": [],
   "source": [
    "import pandas as pd\n",
    "import numpy as np"
   ]
  },
  {
   "cell_type": "code",
   "execution_count": 129,
   "metadata": {},
   "outputs": [
    {
     "name": "stdout",
     "output_type": "stream",
     "text": [
      "Load data...\n"
     ]
    }
   ],
   "source": [
    "print('Load data...')\n",
    "data = pd.read_csv(\"/Users/jiayangdu/Desktop/PWC/data_for_modeling_full.csv\")"
   ]
  },
  {
   "cell_type": "code",
   "execution_count": 130,
   "metadata": {},
   "outputs": [],
   "source": [
    "data.drop(['Unnamed: 0','Unnamed: 0.1','S_INFO_COMPNAME'], axis=1,inplace=True)"
   ]
  },
  {
   "cell_type": "code",
   "execution_count": 131,
   "metadata": {},
   "outputs": [],
   "source": [
    "data.set_index('Company_code', inplace = True)"
   ]
  },
  {
   "cell_type": "code",
   "execution_count": 132,
   "metadata": {},
   "outputs": [],
   "source": [
    "data['AQI'] = pd.qcut(data['AQI'], 10, labels=False)\n",
    "data['DSRI'] = pd.qcut(data['DSRI'], 10,labels=False)\n",
    "data['GMI'] = pd.qcut(data['GMI'], 10,labels=False)\n",
    "data['LVGI'] = pd.qcut(data['LVGI'], 10,labels=False)\n",
    "data['SGAI'] = pd.qcut(data['SGAI'], 10,labels=False)\n",
    "data['SGI'] = pd.qcut(data['SGI'], 10,labels=False)\n",
    "data['TATA'] = pd.qcut(data['TATA'], 10,labels=False)"
   ]
  },
  {
   "cell_type": "code",
   "execution_count": 133,
   "metadata": {},
   "outputs": [],
   "source": [
    "def nandivide(a,b):\n",
    "    b = b.apply(lambda x:np.nan if x==0 else x)\n",
    "    r = a/b \n",
    "    return r.fillna(0)"
   ]
  },
  {
   "cell_type": "code",
   "execution_count": 134,
   "metadata": {},
   "outputs": [],
   "source": [
    "data['XueIdx_1'] = nandivide((data['OPER_PROFIT']+data['LESS_FIN_EXP']+data['DEPR_FA_COGA_DPBA']+data['AMORT_INTANG_ASSETS']),data['TOT_LIAB'])\n",
    "data['XueIdx_3'] = nandivide((data['TOT_PROFIT']- data['OPER_PROFIT']),data['TOT_PROFIT'].apply(lambda x: np.nan if x<=0 else x))\n",
    "data['XueIdx_4'] = nandivide((data['ACCT_RCV']+data['NOTES_RCV']+data['OTH_RCV']),data['TOT_CUR_ASSETS'])  \n",
    "data['LOSS'] = (data['TOT_PROFIT']-data['PLUS_NON_OPER_REV']+data['LESS_NON_OPER_EXP']).apply(lambda x: 1 if x<0 else 0)\n",
    "data['OTHREC'] = nandivide(data['OTH_RCV'],data['TOT_ASSETS'])\n",
    "data['size'] = data['TOT_ASSETS'].apply(float)\n",
    "data['equity'] = data['TOT_ASSETS']-data['TOT_LIAB']\n",
    "data['cfi'] = nandivide(data['NET_CASH_FLOWS_INV_ACT'],data['NET_CASH_FLOWS_OPER_ACT'].apply(abs))\n",
    "data['cff'] = nandivide(data['NET_CASH_FLOWS_FNC_ACT'],data['NET_CASH_FLOWS_OPER_ACT'].apply(abs))\n",
    "data['lin1'] =nandivide(data['OTHER_CASH_RECP_RAL_FNC_ACT'],data['TOT_ASSETS'])\n",
    "data['Cash Flows from Operations'] = data['NET_CASH_FLOWS_OPER_ACT']\n",
    "data['lin2'] =nandivide(data['TOT_CUR_LIAB'],data['Cash Flows from Operations'].apply(abs))\n",
    "data['Sales'] = data['TOT_OPER_REV']\n",
    "data['lin_1'] = nandivide(data['Sales']-data['Cash Flows from Operations'],data['Sales'])\n",
    "data['turnover'] = nandivide(data['Sales'],data['INVENTORIES'])\n",
    "data['lin_5'] = nandivide(data['INVENTORIES'],data['TOT_ASSETS'])"
   ]
  },
  {
   "cell_type": "code",
   "execution_count": 135,
   "metadata": {},
   "outputs": [],
   "source": [
    "###bin continuous variables\n",
    "columns = ['XueIdx_1','XueIdx_3','XueIdx_4','LOSS','OTHREC','size','equity','cfi','cff','lin1','lin2','lin_1','turnover','lin_5']\n",
    "for col in columns:\n",
    "    data[col] = pd.qcut(data[col],10,duplicates='drop',labels=False)"
   ]
  },
  {
   "cell_type": "code",
   "execution_count": 225,
   "metadata": {},
   "outputs": [],
   "source": [
    "##########定义roc图和confusion_matrix\n",
    "import pandas as pd\n",
    "import matplotlib.pyplot as plt\n",
    "from sklearn.metrics import roc_curve, auc  ###计算roc和auc\n",
    "\n",
    "def illus_roc_curve(real,pred):\n",
    "    # Compute ROC curve and ROC area for each class \n",
    "    \n",
    "    fpr,tpr,threshold = roc_curve(real, pred) ###计算真正率和假正率\n",
    "    roc_auc = auc(fpr,tpr) ###计算auc的值\n",
    "    lw = 2\n",
    "    plt.figure(figsize=(10,10))\n",
    "    plt.plot(fpr, tpr, color='darkorange',\n",
    "            lw=lw, label='ROC curve (area = %0.2f)' % roc_auc) ###假正率为横坐标，真正率为纵坐标做曲线\n",
    "    plt.plot([0, 1], [0, 1], color='navy', lw=lw, linestyle='--')\n",
    "    plt.xlim([0.0, 1.0])\n",
    "    plt.ylim([0.0, 1.0])\n",
    "    plt.xlabel('False Positive Rate')\n",
    "    plt.ylabel('True Positive Rate')\n",
    "    plt.title('ROC curve')\n",
    "    plt.legend(loc=\"lower right\")\n",
    "    plt.show()\n",
    "    \n",
    "    \n",
    "def confusion_matrix(pred,real):\n",
    "    x = pd.DataFrame()\n",
    "    x['label'] = real\n",
    "    x['predict'] = pred\n",
    "\n",
    "    TruePositive = sum(x[x['predict']==1]['label'])\n",
    "    FalsePositive = sum(1-x[x['predict']==1]['label'])\n",
    "    TrueNegative = sum(1-x[x['predict']==0]['label'])\n",
    "    FalseNegative = sum(x[x['predict']==0]['label'])\n",
    "\n",
    "    Precision = TruePositive/(TruePositive+FalsePositive)\n",
    "    Recall = TruePositive/(TruePositive+FalseNegative)\n",
    "    print('\\nPrecision: {}'.format(Precision))\n",
    "    print('Recall: {}\\n'.format(Recall))\n",
    "    _confusion_matrix = pd.DataFrame({\n",
    "                    'Negative':{'False':FalseNegative,'True':TrueNegative},\n",
    "                    'Positive':{'False':FalsePositive,'True':TruePositive}                            \n",
    "                    })      \n",
    "    \n",
    "    print(_confusion_matrix)\n",
    "    return _confusion_matrix"
   ]
  },
  {
   "cell_type": "code",
   "execution_count": 226,
   "metadata": {},
   "outputs": [
    {
     "data": {
      "image/png": "[encoded data removed]",
      "text/plain": [
       "<Figure size 432x288 with 1 Axes>"
      ]
     },
     "metadata": {
      "needs_background": "light"
     },
     "output_type": "display_data"
    }
   ],
   "source": [
    "##visulization for label distribution\n",
    "import seaborn as sns\n",
    "import matplotlib.pyplot as plt\n",
    "%matplotlib inline\n",
    "plot_tr = sns.countplot(x='label', data=data)\n",
    "plot_tr.set_title(\"Downgrade Distribution \\n 0: No Downgrade | 1: Downgrade\", fontsize=18)\n",
    "plot_tr.set_xlabel(\"Is downgrade?\", fontsize=16)\n",
    "plot_tr.set_ylabel('Count', fontsize=16)\n",
    "total = len(data)\n",
    "for p in plot_tr.patches:\n",
    "    height = p.get_height()\n",
    "    plot_tr.text(p.get_x()+p.get_width()/2.,\n",
    "            height + 3,\n",
    "            '{:1.2f}%'.format(height/total*100),\n",
    "            ha=\"center\", fontsize=15) "
   ]
  },
  {
   "cell_type": "markdown",
   "metadata": {},
   "source": [
    "### Model 2: Decision Tree\n",
    "\n",
    "reference：\n",
    "\n",
    "https://www.cnblogs.com/tangxiaobo199181/p/12227543.html\n",
    "\n",
    "https://zhuanlan.zhihu.com/p/108628169\n",
    "\n",
    "https://blog.csdn.net/xbinworld/article/details/44660339\n",
    "\n",
    "https://towardsdatascience.com/how-to-tune-a-decision-tree-f03721801680\n",
    "\n",
    "https://medium.com/@mohtedibf/indepth-parameter-tuning-for-decision-tree-6753118a03c3\n",
    "\n",
    "https://blog.csdn.net/qq_38923076/article/details/82931340"
   ]
  },
  {
   "cell_type": "code",
   "execution_count": 198,
   "metadata": {},
   "outputs": [],
   "source": [
    "#train test split\n",
    "from sklearn.model_selection import train_test_split\n",
    "reg_cols = ['AQI',\n",
    "            'DSRI',\n",
    "            'GMI',\n",
    "            'LVGI',\n",
    "            'SGAI',\n",
    "            'SGI',\n",
    "            'TATA',\n",
    "            'XueIdx_1',\n",
    "            'XueIdx_3',\n",
    "            'XueIdx_4',\n",
    "            'LOSS',\n",
    "            'OTHREC',\n",
    "            'size',\n",
    "            'equity',\n",
    "            'cfi',\n",
    "            'cff',\n",
    "            'lin1',\n",
    "            'lin2',\n",
    "            'lin_1',\n",
    "            'turnover',\n",
    "            'lin_5']\n",
    "\n",
    "y = data['label']\n",
    "X = data[reg_cols]\n",
    "X_train, X_test, y_train, y_test = train_test_split(X, y,test_size=0.25, random_state=42)"
   ]
  },
  {
   "cell_type": "code",
   "execution_count": 199,
   "metadata": {},
   "outputs": [],
   "source": [
    "# define decision tree (basic)\n",
    "from sklearn.tree import DecisionTreeClassifier\n",
    "dt = DecisionTreeClassifier()\n",
    "\n",
    "#fit\n",
    "r = dt.fit(X_train,y_train)\n",
    "\n",
    "#predict\n",
    "y_pred_train= dt.predict(X_train)\n",
    "y_pred_test = dt.predict(X_test)"
   ]
  },
  {
   "cell_type": "markdown",
   "metadata": {},
   "source": [
    "We will use AUC (Area Under Curve) as the evaluation metric. Our target value is binary so it’s a binary classification problem. AUC is a good way for evaluation for this type of problems."
   ]
  },
  {
   "cell_type": "code",
   "execution_count": 200,
   "metadata": {},
   "outputs": [
    {
     "data": {
      "text/plain": [
       "0.5304716052853529"
      ]
     },
     "execution_count": 200,
     "metadata": {},
     "output_type": "execute_result"
    }
   ],
   "source": [
    "from sklearn.metrics import roc_curve, auc\n",
    "false_positive_rate, true_positive_rate, thresholds = roc_curve(y_test, y_pred_test)\n",
    "roc_auc = auc(false_positive_rate, true_positive_rate)\n",
    "roc_auc"
   ]
  },
  {
   "cell_type": "code",
   "execution_count": 205,
   "metadata": {},
   "outputs": [
    {
     "name": "stdout",
     "output_type": "stream",
     "text": [
      "\n",
      "Precision: 0.05660377358490566\n",
      "Recall: 0.075\n",
      "\n",
      "       Negative  Positive\n",
      "False        37        50\n",
      "True       3507         3\n"
     ]
    },
    {
     "data": {
      "text/html": [
       "<div>\n",
       "<style scoped>\n",
       "    .dataframe tbody tr th:only-of-type {\n",
       "        vertical-align: middle;\n",
       "    }\n",
       "\n",
       "    .dataframe tbody tr th {\n",
       "        vertical-align: top;\n",
       "    }\n",
       "\n",
       "    .dataframe thead th {\n",
       "        text-align: right;\n",
       "    }\n",
       "</style>\n",
       "<table border=\"1\" class=\"dataframe\">\n",
       "  <thead>\n",
       "    <tr style=\"text-align: right;\">\n",
       "      <th></th>\n",
       "      <th>Negative</th>\n",
       "      <th>Positive</th>\n",
       "    </tr>\n",
       "  </thead>\n",
       "  <tbody>\n",
       "    <tr>\n",
       "      <td>False</td>\n",
       "      <td>37</td>\n",
       "      <td>50</td>\n",
       "    </tr>\n",
       "    <tr>\n",
       "      <td>True</td>\n",
       "      <td>3507</td>\n",
       "      <td>3</td>\n",
       "    </tr>\n",
       "  </tbody>\n",
       "</table>\n",
       "</div>"
      ],
      "text/plain": [
       "       Negative  Positive\n",
       "False        37        50\n",
       "True       3507         3"
      ]
     },
     "execution_count": 205,
     "metadata": {},
     "output_type": "execute_result"
    }
   ],
   "source": [
    "# confusion_matrix(y_pred_train, y_train)\n",
    "confusion_matrix(y_pred_test, y_test)"
   ]
  },
  {
   "cell_type": "code",
   "execution_count": 207,
   "metadata": {},
   "outputs": [
    {
     "data": {
      "image/png": "[encoded data removed]",
      "text/plain": [
       "<Figure size 432x288 with 1 Axes>"
      ]
     },
     "metadata": {
      "needs_background": "light"
     },
     "output_type": "display_data"
    }
   ],
   "source": [
    "#parameter tuning\n",
    "#max_depth: This indicates how deep the tree can be. \n",
    "#The deeper the tree, the more splits it has and it captures more information about the data. \n",
    "max_depths = np.linspace(1, 32, 32, endpoint=True)\n",
    "train_results = []\n",
    "test_results = []\n",
    "for max_depth in max_depths:\n",
    "    dt = DecisionTreeClassifier(max_depth=max_depth)\n",
    "    dt.fit(x_train, y_train)\n",
    "    train_pred = dt.predict(x_train)\n",
    "    false_positive_rate, true_positive_rate, thresholds = roc_curve(y_train, train_pred)\n",
    "    roc_auc = auc(false_positive_rate, true_positive_rate)\n",
    "   # Add auc score to previous train results\n",
    "    train_results.append(roc_auc)\n",
    "    y_pred = dt.predict(x_test)\n",
    "    false_positive_rate, true_positive_rate, thresholds = roc_curve(y_test, y_pred)\n",
    "    roc_auc = auc(false_positive_rate, true_positive_rate)\n",
    "   # Add auc score to previous test results\n",
    "    test_results.append(roc_auc)\n",
    "from matplotlib.legend_handler import HandlerLine2D\n",
    "line1, = plt.plot(max_depths, train_results, 'b', label='Train AUC')\n",
    "line2, = plt.plot(max_depths, test_results, 'r', label='Test AUC')\n",
    "plt.legend(handler_map={line1: HandlerLine2D(numpoints=2)})\n",
    "plt.ylabel('AUC score')\n",
    "plt.xlabel('Tree depth')\n",
    "plt.show()"
   ]
  },
  {
   "cell_type": "markdown",
   "metadata": {},
   "source": [
    "We see that our model overfits for large depth values. The tree perfectly predicts all of the train data, however, it fails to generalize the findings for new data"
   ]
  },
  {
   "cell_type": "code",
   "execution_count": 210,
   "metadata": {},
   "outputs": [
    {
     "data": {
      "image/png": "[encoded data removed]",
      "text/plain": [
       "<Figure size 432x288 with 1 Axes>"
      ]
     },
     "metadata": {
      "needs_background": "light"
     },
     "output_type": "display_data"
    }
   ],
   "source": [
    "#min_samples_split represents the minimum number of samples required to split an internal node. \n",
    "#When we increase this parameter, the tree becomes more constrained as it has to consider more samples at each node. \n",
    "#Here we will vary the parameter from 10% to 100% of the samples\n",
    "min_samples_splits = np.linspace(0.1, 1.0, 10, endpoint=True)\n",
    "train_results = []\n",
    "test_results = []\n",
    "for min_samples_split in min_samples_splits:\n",
    "    dt = DecisionTreeClassifier(min_samples_split=min_samples_split)\n",
    "    dt.fit(x_train, y_train)\n",
    "    train_pred = dt.predict(x_train)\n",
    "    false_positive_rate, true_positive_rate, thresholds =    roc_curve(y_train, train_pred)\n",
    "    roc_auc = auc(false_positive_rate, true_positive_rate)\n",
    "    train_results.append(roc_auc)\n",
    "    y_pred = dt.predict(x_test)\n",
    "    false_positive_rate, true_positive_rate, thresholds = roc_curve(y_test, y_pred)\n",
    "    roc_auc = auc(false_positive_rate, true_positive_rate)\n",
    "    test_results.append(roc_auc)\n",
    "from matplotlib.legend_handler import HandlerLine2D\n",
    "line1, = plt.plot(min_samples_splits, train_results, 'b', label='Train AUC')\n",
    "line2, = plt.plot(min_samples_splits, test_results, 'r', label='Test AUC')\n",
    "plt.legend(handler_map={line1: HandlerLine2D(numpoints=2)})\n",
    "plt.ylabel('AUC score')\n",
    "plt.xlabel('min samples split')\n",
    "plt.show()"
   ]
  },
  {
   "cell_type": "code",
   "execution_count": 214,
   "metadata": {},
   "outputs": [
    {
     "data": {
      "image/png": "[encoded data removed]",
      "text/plain": [
       "<Figure size 432x288 with 1 Axes>"
      ]
     },
     "metadata": {
      "needs_background": "light"
     },
     "output_type": "display_data"
    }
   ],
   "source": [
    "#min_samples_leaf is The minimum number of samples required to be at a leaf node.\n",
    "min_samples_leafs = np.linspace(0.1, 0.5, 5, endpoint=True)\n",
    "train_results = []\n",
    "test_results = []\n",
    "for min_samples_leaf in min_samples_leafs:\n",
    "    dt = DecisionTreeClassifier(min_samples_leaf=min_samples_leaf)\n",
    "    dt.fit(x_train, y_train)\n",
    "    train_pred = dt.predict(x_train)\n",
    "    false_positive_rate, true_positive_rate, thresholds = roc_curve(y_train, train_pred)\n",
    "    roc_auc = auc(false_positive_rate, true_positive_rate)\n",
    "    train_results.append(roc_auc)\n",
    "    y_pred = dt.predict(x_test)\n",
    "    false_positive_rate, true_positive_rate, thresholds = roc_curve(y_test, y_pred)\n",
    "    roc_auc = auc(false_positive_rate, true_positive_rate)\n",
    "    test_results.append(roc_auc)\n",
    "from matplotlib.legend_handler import HandlerLine2D\n",
    "line1, = plt.plot(min_samples_leafs, train_results, 'b', label='Train AUC')\n",
    "line2, = plt.plot(min_samples_leafs, test_results, 'r', label='Test AUC')\n",
    "plt.legend(handler_map={line1: HandlerLine2D(numpoints=2)})\n",
    "plt.ylabel('AUC score')\n",
    "plt.xlabel('min samples leaf')\n",
    "plt.show()"
   ]
  },
  {
   "cell_type": "markdown",
   "metadata": {},
   "source": [
    "### Model 3: Random Forest\n",
    "\n",
    "reference:\n",
    "\n",
    "https://www.jiqizhixin.com/articles/2017-07-31-3\n",
    "\n",
    "https://easyai.tech/ai-definition/random-forest/\n",
    "\n",
    "https://towardsdatascience.com/understanding-random-forest-58381e0602d2\n",
    "\n",
    "https://blog.csdn.net/qq547276542/article/details/78304454\n",
    "\n",
    "https://medium.com/@williamkoehrsen/random-forest-simple-explanation-377895a60d2d"
   ]
  },
  {
   "cell_type": "code",
   "execution_count": 218,
   "metadata": {},
   "outputs": [],
   "source": [
    "from sklearn.ensemble import RandomForestClassifier\n",
    "\n",
    "rf = RandomForestClassifier()\n",
    "r = rf.fit(X_train,y_train)\n",
    "y_pred_train= model.predict(X_train)\n",
    "y_pred_test = model.predict(X_test)"
   ]
  },
  {
   "cell_type": "code",
   "execution_count": 219,
   "metadata": {},
   "outputs": [
    {
     "name": "stdout",
     "output_type": "stream",
     "text": [
      "              precision    recall  f1-score   support\n",
      "\n",
      "           0       1.00      1.00      1.00      3557\n",
      "           1       1.00      0.90      0.95        40\n",
      "\n",
      "    accuracy                           1.00      3597\n",
      "   macro avg       1.00      0.95      0.97      3597\n",
      "weighted avg       1.00      1.00      1.00      3597\n",
      "\n",
      "预估结果的ROC图:\n"
     ]
    },
    {
     "data": {
      "image/png": "[encoded data removed]",
      "text/plain": [
       "<Figure size 720x720 with 1 Axes>"
      ]
     },
     "metadata": {
      "needs_background": "light"
     },
     "output_type": "display_data"
    }
   ],
   "source": [
    "# confusion_matrix(y_pred_train, y_train)\n",
    "from sklearn.metrics import classification_report,confusion_matrix\n",
    "print(classification_report(y_test,y_pred_test))\n",
    "print('预估结果的ROC图:')\n",
    "illus_roc_curve(y_test,y_pred_test)"
   ]
  },
  {
   "cell_type": "code",
   "execution_count": 224,
   "metadata": {},
   "outputs": [
    {
     "name": "stdout",
     "output_type": "stream",
     "text": [
      "\n",
      "Precision: 1.0\n",
      "Recall: 0.9\n",
      "\n",
      "       Negative  Positive\n",
      "False         4         0\n",
      "True       3557        36\n"
     ]
    },
    {
     "data": {
      "text/html": [
       "<div>\n",
       "<style scoped>\n",
       "    .dataframe tbody tr th:only-of-type {\n",
       "        vertical-align: middle;\n",
       "    }\n",
       "\n",
       "    .dataframe tbody tr th {\n",
       "        vertical-align: top;\n",
       "    }\n",
       "\n",
       "    .dataframe thead th {\n",
       "        text-align: right;\n",
       "    }\n",
       "</style>\n",
       "<table border=\"1\" class=\"dataframe\">\n",
       "  <thead>\n",
       "    <tr style=\"text-align: right;\">\n",
       "      <th></th>\n",
       "      <th>Negative</th>\n",
       "      <th>Positive</th>\n",
       "    </tr>\n",
       "  </thead>\n",
       "  <tbody>\n",
       "    <tr>\n",
       "      <td>False</td>\n",
       "      <td>4</td>\n",
       "      <td>0</td>\n",
       "    </tr>\n",
       "    <tr>\n",
       "      <td>True</td>\n",
       "      <td>3557</td>\n",
       "      <td>36</td>\n",
       "    </tr>\n",
       "  </tbody>\n",
       "</table>\n",
       "</div>"
      ],
      "text/plain": [
       "       Negative  Positive\n",
       "False         4         0\n",
       "True       3557        36"
      ]
     },
     "execution_count": 224,
     "metadata": {},
     "output_type": "execute_result"
    }
   ],
   "source": [
    "confusion_matrix(y_pred_test, y_test)"
   ]
  },
  {
   "cell_type": "markdown",
   "metadata": {},
   "source": [
    "### Model 4:  LightGBM"
   ]
  },
  {
   "cell_type": "markdown",
   "metadata": {},
   "source": [
    "reference: \n",
    "\n",
    "https://towardsdatascience.com/xgboost-python-example-42777d01001e\n",
    "\n",
    "https://lightgbm.readthedocs.io/en/latest/Parameters-Tuning.html\n",
    "\n",
    "https://www.kaggle.com/roydatascience/light-gbm-with-complete-eda\n",
    "\n",
    "https://www.cnblogs.com/chenxiangzhen/p/10962983.html\n",
    "\n",
    "https://blog.csdn.net/weixin_41411460/article/details/104290547\n",
    "\n",
    "https://zhuanlan.zhihu.com/p/27916208\n",
    "\n",
    "https://medium.com/@pushkarmandot/https-medium-com-pushkarmandot-what-is-lightgbm-how-to-implement-it-how-to-fine-tune-the-parameters-60347819b7fc\n",
    "\n",
    "https://towardsdatascience.com/lightgbm-vs-xgboost-which-algorithm-win-the-race-1ff7dd4917d"
   ]
  },
  {
   "cell_type": "code",
   "execution_count": 143,
   "metadata": {},
   "outputs": [],
   "source": [
    "import pandas as pd\n",
    "import xgboost as xgb\n",
    "import lightgbm as lgb\n",
    "from sklearn.model_selection import train_test_split\n",
    "from sklearn.metrics import mean_squared_error"
   ]
  },
  {
   "cell_type": "code",
   "execution_count": 144,
   "metadata": {},
   "outputs": [],
   "source": [
    "# 设定训练集和测试集\n",
    "reg_cols = ['AQI',\n",
    "            'DSRI',\n",
    "            'GMI',\n",
    "            'LVGI',\n",
    "            'SGAI',\n",
    "            'SGI',\n",
    "            'TATA',\n",
    "            'XueIdx_1',\n",
    "            'XueIdx_3',\n",
    "            'XueIdx_4',\n",
    "            'LOSS',\n",
    "            'OTHREC',\n",
    "            'size',\n",
    "            'equity',\n",
    "            'cfi',\n",
    "            'cff',\n",
    "            'lin1',\n",
    "            'lin2',\n",
    "            'lin_1',\n",
    "            'turnover',\n",
    "            'lin_5']\n",
    "\n",
    "#y = data['label'].values\n",
    "#X = data[reg_cols].values\n",
    "#n = int(len(X)*0.7)\n",
    "#X_train = X[:n]\n",
    "#y_train = y[:n]\n",
    "#X_test = X[n:]\n",
    "#y_test = y[n:]\n",
    "y = data['label']\n",
    "X = data[reg_cols]\n",
    "X_train, X_test, y_train, y_test = train_test_split(X, y,test_size=0.30, random_state=42)"
   ]
  },
  {
   "cell_type": "code",
   "execution_count": 145,
   "metadata": {},
   "outputs": [],
   "source": [
    "# 构建lgb中的Dataset格式，和xgboost中的DMatrix是对应的\n",
    "lgb_train = lgb.Dataset(X_train, y_train, feature_name =reg_cols)\n",
    "lgb_dev = lgb.Dataset(X_test,y_test, reference = lgb_train)"
   ]
  },
  {
   "cell_type": "code",
   "execution_count": 164,
   "metadata": {},
   "outputs": [
    {
     "name": "stdout",
     "output_type": "stream",
     "text": [
      "用网格搜索找到的最优超参数为:\n",
      "{'bagging_fraction': 0.5, 'feature_fraction': 0.6, 'learning_rate': 0.06, 'n_estimators': 50}\n"
     ]
    }
   ],
   "source": [
    "#####################\n",
    "###网格搜索查找最优超参数\n",
    "# 配合scikit-learn的网格搜索交叉验证选择最优超参数\n",
    "from sklearn.model_selection import GridSearchCV\n",
    "estimator = lgb.LGBMRegressor(num_leaves=30)\n",
    "\n",
    "param_grid = {\n",
    "    'learning_rate': [0.01, 0.02,0.03,0.04,0.05,0.06,0.07,0.08,0.09, 0.1, 0.2,0.3,0.4,0.5,0.6,0.7,0.8,0.9, 1],\n",
    "    'n_estimators': [20, 40, 50],\n",
    "    'feature_fraction':[0.5,0.6,0.7,0.8,0.9],\n",
    "    'bagging_fraction':[0.5,0.6,0.7,0.8,0.9]\n",
    "}\n",
    "\n",
    "gbm = GridSearchCV(estimator, param_grid)\n",
    "\n",
    "gbm.fit(X_train, y_train)\n",
    "\n",
    "print('用网格搜索找到的最优超参数为:')\n",
    "print(gbm.best_params_)"
   ]
  },
  {
   "cell_type": "code",
   "execution_count": 165,
   "metadata": {},
   "outputs": [
    {
     "name": "stdout",
     "output_type": "stream",
     "text": [
      "开始训练...\n",
      "[1]\tvalid_0's fair: 0.00303193\tvalid_0's l2: 0.00972768\n",
      "Training until validation scores don't improve for 10 rounds\n",
      "[2]\tvalid_0's fair: 0.00302611\tvalid_0's l2: 0.00969545\n",
      "[3]\tvalid_0's fair: 0.00301401\tvalid_0's l2: 0.0096319\n",
      "[4]\tvalid_0's fair: 0.00299897\tvalid_0's l2: 0.00956075\n",
      "[5]\tvalid_0's fair: 0.00299059\tvalid_0's l2: 0.00951995\n",
      "[6]\tvalid_0's fair: 0.00298205\tvalid_0's l2: 0.00947615\n",
      "[7]\tvalid_0's fair: 0.00297069\tvalid_0's l2: 0.00942347\n",
      "[8]\tvalid_0's fair: 0.00296149\tvalid_0's l2: 0.00937783\n",
      "[9]\tvalid_0's fair: 0.00295247\tvalid_0's l2: 0.0093298\n",
      "[10]\tvalid_0's fair: 0.00293909\tvalid_0's l2: 0.00926725\n",
      "[11]\tvalid_0's fair: 0.00293933\tvalid_0's l2: 0.00925782\n",
      "[12]\tvalid_0's fair: 0.00294141\tvalid_0's l2: 0.00924627\n",
      "[13]\tvalid_0's fair: 0.00294305\tvalid_0's l2: 0.00924495\n",
      "[14]\tvalid_0's fair: 0.00294619\tvalid_0's l2: 0.00924159\n",
      "[15]\tvalid_0's fair: 0.00293873\tvalid_0's l2: 0.00918764\n",
      "[16]\tvalid_0's fair: 0.0029362\tvalid_0's l2: 0.00915552\n",
      "[17]\tvalid_0's fair: 0.00293608\tvalid_0's l2: 0.00914155\n",
      "[18]\tvalid_0's fair: 0.00292705\tvalid_0's l2: 0.00908366\n",
      "[19]\tvalid_0's fair: 0.00292752\tvalid_0's l2: 0.00906672\n",
      "[20]\tvalid_0's fair: 0.00292738\tvalid_0's l2: 0.00904461\n",
      "[21]\tvalid_0's fair: 0.00292835\tvalid_0's l2: 0.00903034\n",
      "[22]\tvalid_0's fair: 0.00292882\tvalid_0's l2: 0.00901257\n",
      "[23]\tvalid_0's fair: 0.00293499\tvalid_0's l2: 0.00900963\n",
      "[24]\tvalid_0's fair: 0.00293551\tvalid_0's l2: 0.00899247\n",
      "[25]\tvalid_0's fair: 0.0029367\tvalid_0's l2: 0.00898819\n",
      "[26]\tvalid_0's fair: 0.00293429\tvalid_0's l2: 0.0089761\n",
      "[27]\tvalid_0's fair: 0.00292729\tvalid_0's l2: 0.00894437\n",
      "[28]\tvalid_0's fair: 0.00292374\tvalid_0's l2: 0.0089261\n",
      "[29]\tvalid_0's fair: 0.00291612\tvalid_0's l2: 0.00889263\n",
      "[30]\tvalid_0's fair: 0.0029164\tvalid_0's l2: 0.00888457\n",
      "[31]\tvalid_0's fair: 0.00291822\tvalid_0's l2: 0.00888412\n",
      "[32]\tvalid_0's fair: 0.00292236\tvalid_0's l2: 0.00888795\n",
      "[33]\tvalid_0's fair: 0.0029243\tvalid_0's l2: 0.00888759\n",
      "[34]\tvalid_0's fair: 0.00292579\tvalid_0's l2: 0.00888007\n",
      "[35]\tvalid_0's fair: 0.00293897\tvalid_0's l2: 0.00890874\n",
      "[36]\tvalid_0's fair: 0.00293505\tvalid_0's l2: 0.00888802\n",
      "[37]\tvalid_0's fair: 0.00293764\tvalid_0's l2: 0.00889398\n",
      "[38]\tvalid_0's fair: 0.00293736\tvalid_0's l2: 0.00889123\n",
      "[39]\tvalid_0's fair: 0.00294353\tvalid_0's l2: 0.00890522\n",
      "Early stopping, best iteration is:\n",
      "[29]\tvalid_0's fair: 0.00291612\tvalid_0's l2: 0.00889263\n",
      "保存模型...\n",
      "开始预测...\n",
      "预估结果的rmse为:\n",
      "0.09430075024178432\n",
      "预估结果的ROC图:\n"
     ]
    },
    {
     "data": {
      "image/png": "[encoded data removed]",
      "text/plain": [
       "<Figure size 720x720 with 1 Axes>"
      ]
     },
     "metadata": {
      "needs_background": "light"
     },
     "output_type": "display_data"
    }
   ],
   "source": [
    "# 参数\n",
    "params = {\n",
    "    'task':'train',\n",
    "    'boosting_type':'gbdt',\n",
    "    'metric': {'l2','fair'},\n",
    "    'num_leaves':30,\n",
    "    'num_threads':8,\n",
    "    'learning_rate':0.06,\n",
    "    'feature_fraction':0.6,\n",
    "    'bagging_fraction':0.5,\n",
    "    'bagging_freq':5,\n",
    "    'verbose':0\n",
    "}\n",
    "\n",
    "print('开始训练...')\n",
    "# 训练\n",
    "gbm = lgb.train(params,\n",
    "                lgb_train,\n",
    "                num_boost_round=100,\n",
    "                valid_sets=lgb_dev,\n",
    "               early_stopping_rounds=10)\n",
    "# 保存模型\n",
    "print('保存模型...')\n",
    "# 保存模型到文件中\n",
    "gbm.save_model('model.txt')\n",
    "print('开始预测...')\n",
    "# 预测\n",
    "y_pred1 = gbm.predict(X_test, num_iteration = gbm.best_iteration)\n",
    "# 评估\n",
    "print('预估结果的rmse为:')\n",
    "print(mean_squared_error(y_test, y_pred1) ** 0.5) #Root Mean Square Error (RMSE) is a standard way to measure the error of a model in predicting quantitative data. \n",
    "#ROC curve\n",
    "print('预估结果的ROC图:')\n",
    "illus_roc_curve(y_test,y_pred1)"
   ]
  },
  {
   "cell_type": "code",
   "execution_count": 166,
   "metadata": {},
   "outputs": [
    {
     "data": {
      "text/plain": [
       "equity      72\n",
       "OTHREC      55\n",
       "XueIdx_1    52\n",
       "XueIdx_3    51\n",
       "SGAI        48\n",
       "lin2        47\n",
       "lin_1       46\n",
       "size        46\n",
       "TATA        46\n",
       "lin1        44\n",
       "AQI         43\n",
       "LVGI        42\n",
       "cff         40\n",
       "cfi         34\n",
       "turnover    32\n",
       "GMI         32\n",
       "lin_5       29\n",
       "SGI         28\n",
       "XueIdx_4    27\n",
       "DSRI        27\n",
       "LOSS         0\n",
       "dtype: int32"
      ]
     },
     "execution_count": 166,
     "metadata": {},
     "output_type": "execute_result"
    }
   ],
   "source": [
    "# 特征重要度\n",
    "fi = pd.Series(gbm.feature_importance(), index = gbm.feature_name())\n",
    "fi = fi.sort_values(ascending=False)\n",
    "fi"
   ]
  },
  {
   "cell_type": "code",
   "execution_count": 167,
   "metadata": {},
   "outputs": [],
   "source": [
    "def confusion_matrix(pred,real):\n",
    "    x = pd.DataFrame()\n",
    "    x['label'] = real\n",
    "    x['predict'] = pred\n",
    "\n",
    "    TruePositive = sum(x[x['predict']==1]['label'])\n",
    "    FalsePositive = sum(1-x[x['predict']==1]['label'])\n",
    "    TrueNegative = sum(1-x[x['predict']==0]['label'])\n",
    "    FalseNegative = sum(x[x['predict']==0]['label'])\n",
    "\n",
    "    Precision = TruePositive/(TruePositive+FalsePositive)\n",
    "    Recall = TruePositive/(TruePositive+FalseNegative)\n",
    "    print('\\nPrecision: {}'.format(Precision))\n",
    "    print('Recall: {}\\n'.format(Recall))\n",
    "    _confusion_matrix = pd.DataFrame({\n",
    "                    'Negative':{'False':FalseNegative,'True':TrueNegative},\n",
    "                    'Positive':{'False':FalsePositive,'True':TruePositive}                            \n",
    "                    })      \n",
    "    \n",
    "    print(_confusion_matrix)\n",
    "    return _confusion_matrix"
   ]
  },
  {
   "cell_type": "code",
   "execution_count": 168,
   "metadata": {},
   "outputs": [
    {
     "name": "stdout",
     "output_type": "stream",
     "text": [
      "--------- 0.0046 ---------\n",
      "\n",
      "Precision: 0.020429544264012573\n",
      "Recall: 0.9069767441860465\n",
      "\n",
      "       Negative  Positive\n",
      "False         4      1870\n",
      "True       2404        39\n",
      "--------- 0.0047 ---------\n",
      "\n",
      "Precision: 0.020537124802527645\n",
      "Recall: 0.9069767441860465\n",
      "\n",
      "       Negative  Positive\n",
      "False         4      1860\n",
      "True       2414        39\n",
      "--------- 0.00475 ---------\n",
      "\n",
      "Precision: 0.02058047493403694\n",
      "Recall: 0.9069767441860465\n",
      "\n",
      "       Negative  Positive\n",
      "False         4      1856\n",
      "True       2418        39\n",
      "--------- 0.0048 ---------\n",
      "\n",
      "Precision: 0.020624008461131677\n",
      "Recall: 0.9069767441860465\n",
      "\n",
      "       Negative  Positive\n",
      "False         4      1852\n",
      "True       2422        39\n",
      "--------- 0.005 ---------\n",
      "\n",
      "Precision: 0.02092274678111588\n",
      "Recall: 0.9069767441860465\n",
      "\n",
      "       Negative  Positive\n",
      "False         4      1825\n",
      "True       2449        39\n"
     ]
    }
   ],
   "source": [
    "for alpha in [0.0046,0.0047,0.00475,0.0048,0.005]:\n",
    "    print( '--------- {} ---------'.format(alpha))\n",
    "    pred2 = [1 if x>alpha else 0 for x in y_pred1]\n",
    "    real = y_test\n",
    "    confusion_matrix(pred2,real)"
   ]
  },
  {
   "cell_type": "code",
   "execution_count": 169,
   "metadata": {},
   "outputs": [
    {
     "name": "stdout",
     "output_type": "stream",
     "text": [
      "开始预测...\n",
      "预估结果的rmse为:\n",
      "0.0934085905869073\n",
      "预估结果的ROC图:\n"
     ]
    },
    {
     "data": {
      "image/png": "[encoded data removed]",
      "text/plain": [
       "<Figure size 720x720 with 1 Axes>"
      ]
     },
     "metadata": {
      "needs_background": "light"
     },
     "output_type": "display_data"
    }
   ],
   "source": [
    "##########使用############\n",
    "md = lgb.Booster(model_file='model.txt')\n",
    "# 预测整体 \n",
    "print('开始预测...')\n",
    "y_pred2 = md.predict(X, num_iteration = gbm.best_iteration)\n",
    "# 评估\n",
    "print('预估结果的rmse为:')\n",
    "print(mean_squared_error(y, y_pred2) ** 0.5) #Root Mean Square Error (RMSE) is a standard way to measure the error of a model in predicting quantitative data. \n",
    "#ROC curve\n",
    "print('预估结果的ROC图:')\n",
    "illus_roc_curve(y,y_pred2)"
   ]
  },
  {
   "cell_type": "code",
   "execution_count": null,
   "metadata": {},
   "outputs": [],
   "source": []
  }
 ],
 "metadata": {
  "kernelspec": {
   "display_name": "Python 3",
   "language": "python",
   "name": "python3"
  },
  "language_info": {
   "codemirror_mode": {
    "name": "ipython",
    "version": 3
   },
   "file_extension": ".py",
   "mimetype": "text/x-python",
   "name": "python",
   "nbconvert_exporter": "python",
   "pygments_lexer": "ipython3",
   "version": "3.8.2"
  }
 },
 "nbformat": 4,
 "nbformat_minor": 2
}
